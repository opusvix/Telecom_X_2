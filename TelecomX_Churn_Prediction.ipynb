{
 "cells": [
  {
   "cell_type": "markdown",
   "id": "5b8a6c94",
   "metadata": {},
   "source": [
    "# 🤖 Telecom X - Parte 2: Prevendo Churn\n",
    "\n",
    "Este notebook tem como objetivo prever a evasão (churn) de clientes da Telecom X com base nos dados tratados anteriormente.  \n",
    "Aplicaremos técnicas de machine learning para construir modelos preditivos e interpretar os fatores que mais influenciam a saída de clientes.\n",
    "\n",
    "---"
   ]
  },
  {
   "cell_type": "code",
   "execution_count": null,
   "id": "91c19a7d",
   "metadata": {},
   "outputs": [],
   "source": [
    "# Bibliotecas\n",
    "import pandas as pd\n",
    "import numpy as np\n",
    "import matplotlib.pyplot as plt\n",
    "import seaborn as sns\n",
    "\n",
    "from sklearn.model_selection import train_test_split\n",
    "from sklearn.preprocessing import StandardScaler\n",
    "from sklearn.preprocessing import OneHotEncoder\n",
    "from sklearn.compose import ColumnTransformer\n",
    "from sklearn.pipeline import Pipeline\n",
    "\n",
    "from sklearn.linear_model import LogisticRegression\n",
    "from sklearn.ensemble import RandomForestClassifier\n",
    "\n",
    "from sklearn.metrics import accuracy_score, precision_score, recall_score, f1_score, confusion_matrix, classification_report\n",
    "\n",
    "import json\n",
    "sns.set(style=\"whitegrid\")\n"
   ]
  },
  {
   "cell_type": "code",
   "execution_count": null,
   "id": "0a042a64",
   "metadata": {},
   "outputs": [],
   "source": [
    "# Carregando dados do JSON\n",
    "with open('TelecomX_Data.json', 'r', encoding='utf-8') as f:\n",
    "    data = json.load(f)\n",
    "\n",
    "df = pd.json_normalize(data)\n",
    "df.head()"
   ]
  },
  {
   "cell_type": "code",
   "execution_count": null,
   "id": "38ee5b9d",
   "metadata": {},
   "outputs": [],
   "source": [
    "# Remover coluna de ID\n",
    "df.drop(columns=[\"customerID\"], inplace=True)\n",
    "\n",
    "# Converter coluna alvo para binária\n",
    "df = df[df[\"Churn\"].isin([\"Yes\", \"No\"])]\n",
    "df[\"Churn\"] = df[\"Churn\"].map({\"Yes\": 1, \"No\": 0})\n",
    "\n",
    "# Garantir tipo numérico\n",
    "df[\"account.Charges.Total\"] = pd.to_numeric(df[\"account.Charges.Total\"], errors=\"coerce\")\n",
    "\n",
    "# Definir colunas\n",
    "target = \"Churn\"\n",
    "num_cols = [\"customer.tenure\", \"account.Charges.Monthly\", \"account.Charges.Total\"]\n",
    "cat_cols = [col for col in df.columns if col not in num_cols + [target]]\n"
   ]
  },
  {
   "cell_type": "code",
   "execution_count": null,
   "id": "9fac9d8d",
   "metadata": {},
   "outputs": [],
   "source": [
    "# Proporção da evasão\n",
    "df[target].value_counts(normalize=True).plot(kind='bar', color=[\"#69b3a2\", \"#ff9999\"])\n",
    "plt.title(\"Distribuição do Churn\")\n",
    "plt.xticks([0, 1], [\"Não Evadiu\", \"Evadiu\"], rotation=0)\n",
    "plt.ylabel(\"Proporção\")\n",
    "plt.show()"
   ]
  },
  {
   "cell_type": "code",
   "execution_count": null,
   "id": "7bc9e8fa",
   "metadata": {},
   "outputs": [],
   "source": [
    "# Divisão entre treino e teste\n",
    "X = df.drop(columns=[target])\n",
    "y = df[target]\n",
    "\n",
    "X_train, X_test, y_train, y_test = train_test_split(\n",
    "    X, y, test_size=0.3, stratify=y, random_state=42)\n",
    "\n",
    "print(\"Treino:\", X_train.shape, \"Teste:\", X_test.shape)\n"
   ]
  },
  {
   "cell_type": "code",
   "execution_count": null,
   "id": "2b89f927",
   "metadata": {},
   "outputs": [],
   "source": [
    "# Pipeline de transformação\n",
    "transformer = ColumnTransformer(transformers=[\n",
    "    ('num', StandardScaler(), num_cols),\n",
    "    ('cat', OneHotEncoder(handle_unknown='ignore', sparse_output=False), cat_cols)\n",
    "])\n",
    "\n",
    "# Pipelines com modelos\n",
    "pipe_lr = Pipeline(steps=[\n",
    "    ('preprocess', transformer),\n",
    "    ('model', LogisticRegression(max_iter=1000))\n",
    "])\n",
    "\n",
    "pipe_rf = Pipeline(steps=[\n",
    "    ('preprocess', transformer),\n",
    "    ('model', RandomForestClassifier(n_estimators=100, random_state=42))\n",
    "])\n"
   ]
  },
  {
   "cell_type": "code",
   "execution_count": null,
   "id": "bcb2c790",
   "metadata": {},
   "outputs": [],
   "source": [
    "# Treinar modelos\n",
    "pipe_lr.fit(X_train, y_train)\n",
    "pipe_rf.fit(X_train, y_train)\n",
    "\n",
    "# Previsões\n",
    "pred_lr = pipe_lr.predict(X_test)\n",
    "pred_rf = pipe_rf.predict(X_test)\n",
    "\n",
    "# Avaliação\n",
    "def avaliar_modelo(y_true, y_pred, nome):\n",
    "    print(f\"\\n📊 Avaliação - {nome}\")\n",
    "    print(\"Acurácia:\", accuracy_score(y_true, y_pred).round(2))\n",
    "    print(\"Precisão:\", precision_score(y_true, y_pred).round(2))\n",
    "    print(\"Recall:\", recall_score(y_true, y_pred).round(2))\n",
    "    print(\"F1-score:\", f1_score(y_true, y_pred).round(2))\n",
    "    print(\"Matriz de Confusão:\")\n",
    "    print(confusion_matrix(y_true, y_pred))\n",
    "\n",
    "avaliar_modelo(y_test, pred_lr, \"Regressão Logística\")\n",
    "avaliar_modelo(y_test, pred_rf, \"Random Forest\")\n"
   ]
  },
  {
   "cell_type": "code",
   "execution_count": null,
   "id": "10f5953e",
   "metadata": {},
   "outputs": [],
   "source": [
    "# Importância das variáveis (Random Forest)\n",
    "importances = pipe_rf.named_steps['model'].feature_importances_\n",
    "features = pipe_rf.named_steps['preprocess'].transformers_[1][1].get_feature_names_out(cat_cols).tolist()\n",
    "features = num_cols + features\n",
    "\n",
    "imp_df = pd.DataFrame({\n",
    "    'Feature': features,\n",
    "    'Importance': importances\n",
    "}).sort_values(by=\"Importance\", ascending=False)\n",
    "\n",
    "sns.barplot(data=imp_df.head(10), x=\"Importance\", y=\"Feature\", palette=\"crest\")\n",
    "plt.title(\"Top 10 - Importância das Variáveis\")\n",
    "plt.show()"
   ]
  },
  {
   "cell_type": "markdown",
   "id": "e08cbed7",
   "metadata": {},
   "source": [
    "## 🧠 Conclusões\n",
    "\n",
    "- O modelo de Random Forest apresentou melhor desempenho geral em comparação com a Regressão Logística.\n",
    "- Variáveis como `tenure`, `Contract`, `InternetService` e `PaymentMethod` foram altamente relevantes na predição de churn.\n",
    "\n",
    "### ✅ Recomendações Estratégicas\n",
    "\n",
    "- Clientes com contratos mensais e pouco tempo de casa devem ser foco de campanhas de retenção.\n",
    "- A forma de pagamento também está relacionada à evasão, especialmente \"Electronic check\".\n",
    "- Serviços adicionais como suporte técnico e segurança online tendem a aumentar a permanência do cliente.\n",
    "\n",
    "---"
   ]
  }
 ],
 "metadata": {},
 "nbformat": 4,
 "nbformat_minor": 5
}
